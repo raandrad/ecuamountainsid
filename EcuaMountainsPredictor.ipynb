{
  "nbformat": 4,
  "nbformat_minor": 0,
  "metadata": {
    "colab": {
      "provenance": [],
      "authorship_tag": "ABX9TyNAnpdHlFPr7nhhdlsiBoGZ",
      "include_colab_link": true
    },
    "kernelspec": {
      "name": "python3",
      "display_name": "Python 3"
    },
    "language_info": {
      "name": "python"
    },
    "widgets": {
      "application/vnd.jupyter.widget-state+json": {
        "3de75756989d465381e762e39ab12e49": {
          "model_module": "@jupyter-widgets/controls",
          "model_name": "VBoxModel",
          "model_module_version": "1.5.0",
          "state": {
            "_dom_classes": [],
            "_model_module": "@jupyter-widgets/controls",
            "_model_module_version": "1.5.0",
            "_model_name": "VBoxModel",
            "_view_count": null,
            "_view_module": "@jupyter-widgets/controls",
            "_view_module_version": "1.5.0",
            "_view_name": "VBoxView",
            "box_style": "",
            "children": [
              "IPY_MODEL_8b8b4c07bb07462398af25bf9c2dc39d",
              "IPY_MODEL_072fbbcb852642cda276102423949b7b",
              "IPY_MODEL_b946db1f766b4bd7b6013c5ee9903e5e",
              "IPY_MODEL_75948e20f56944dca32414287585ecc6"
            ],
            "layout": "IPY_MODEL_da5c7410a5d54d00b8308cfe9d408634"
          }
        },
        "8b8b4c07bb07462398af25bf9c2dc39d": {
          "model_module": "@jupyter-widgets/controls",
          "model_name": "LabelModel",
          "model_module_version": "1.5.0",
          "state": {
            "_dom_classes": [],
            "_model_module": "@jupyter-widgets/controls",
            "_model_module_version": "1.5.0",
            "_model_name": "LabelModel",
            "_view_count": null,
            "_view_module": "@jupyter-widgets/controls",
            "_view_module_version": "1.5.0",
            "_view_name": "LabelView",
            "description": "",
            "description_tooltip": null,
            "layout": "IPY_MODEL_a740cf0ec9c14de598f79aed7ffe4304",
            "placeholder": "​",
            "style": "IPY_MODEL_51173133025648f39a3c0506c29cb505",
            "value": "Select your mountain!"
          }
        },
        "072fbbcb852642cda276102423949b7b": {
          "model_module": "@jupyter-widgets/controls",
          "model_name": "FileUploadModel",
          "model_module_version": "1.5.0",
          "state": {
            "_counter": 1,
            "_dom_classes": [],
            "_model_module": "@jupyter-widgets/controls",
            "_model_module_version": "1.5.0",
            "_model_name": "FileUploadModel",
            "_view_count": null,
            "_view_module": "@jupyter-widgets/controls",
            "_view_module_version": "1.5.0",
            "_view_name": "FileUploadView",
            "accept": "",
            "button_style": "",
            "data": [
              null
            ],
            "description": "Upload",
            "description_tooltip": null,
            "disabled": false,
            "error": "",
            "icon": "upload",
            "layout": "IPY_MODEL_fee6e71a18e14112b35bdd2e6581e682",
            "metadata": [
              {
                "name": "download.jpeg",
                "type": "image/jpeg",
                "size": 6465,
                "lastModified": 1707339702145
              }
            ],
            "multiple": false,
            "style": "IPY_MODEL_6648ba91641342ad954e8ada0530f731"
          }
        },
        "b946db1f766b4bd7b6013c5ee9903e5e": {
          "model_module": "@jupyter-widgets/output",
          "model_name": "OutputModel",
          "model_module_version": "1.0.0",
          "state": {
            "_dom_classes": [],
            "_model_module": "@jupyter-widgets/output",
            "_model_module_version": "1.0.0",
            "_model_name": "OutputModel",
            "_view_count": null,
            "_view_module": "@jupyter-widgets/output",
            "_view_module_version": "1.0.0",
            "_view_name": "OutputView",
            "layout": "IPY_MODEL_0605f276818f43c980509fba1964afd9",
            "msg_id": "",
            "outputs": [
              {
                "output_type": "display_data",
                "data": {
                  "text/plain": "<PIL.Image.Image image mode=RGB size=128x66>",
                  "image/png": "iVBORw0KGgoAAAANSUhEUgAAAIAAAABCCAIAAAAQfEkjAAA1DUlEQVR4nKW8aaxtyXUetqaq2nufc+7wxp7Y3RTFQaQ4SBRFiqNGU0EgW3IcxwocGQiCOIgTGMm/OA6QIAEcZbCDOIaNGIrsOHaiOJKFaIgtS7ZkWTFpUiQFDiIlTj2wu994371n2LuGtVZ+7HPfe93vqUkxhYd7z92n3t61q1at9a21vlWI7/yLAH7vHxo4AzC8vBHR/MHd3R0AEBERX9Ht7pW5zzfd5pubo4MBuIMCGBIAojnf7QTu4E6GCN/kSB58hW+wmdmDd747S9/4TQRpvgue/yRAAn/lsO5/1L13u3vlYd2++TbfH9ER7xsYACIgItLdYbibO+6F5w8e8Ku0b37AD1u6b+Ju4mQAuJ96OH/hhyyAnz+XHrx4//54sNs30xBhP/v3JAMJHPFcYgBx3rQOQG4PDPjuSF5VKu9J8asL0UP2CcIDS+B/2CUgFEBwNzBAFMB5GQDwlTd6cI/ff/G+ecdXfHhoe7D/Q/qAO4DPs+eIhI6IjESsqu5GyD7fCoHogfu86lTce+6D3R42oofosfNueL/+s1d76EPHISjuBgDgiAAMToAOoH/IO52384n4OpLwgBJ7aLu3D3neE4BEFAiF3N3NwBwAwB724q8uAd9Yt3v97Q8cqeN9OvkBwf26TSggGDqjG4EzOAMaoD1cEr5u+0Oavm/QViMgICKBgVlTFiEmM0RDNHR7NdF76CZ78LlfZ0j8qnrsG+v2kGYmCxkBu13Gag5u5POahvvu7ABgCOTA7gBu6Ep3Dd9st/fKGoH2C+cPs4x7W3r/2vr5LzpX6nBvOs+vzJJlju4NXN2VGJAIEAHPf86wCPaGAe898v4h7R+JD4wNX9UIuN9/He/r9vLPL9vY51/5K7rd/yfJY4uiHL9WtTqgI7kjsAOfmwGfDQICzguA4A1d0WA/OQiAiHeh4bkI0H2vcT4eOpcyu7ujz7sjkCMBOKAjEszo08/X9e6AMQChO2hzFNyvMsldmISzCN8vxffU3X028gFJ9T/4K3RA9687/44PYpf5/z5s/h0Awdzk8qKrKHlBtbaGQYERAKieG+L9HDuSOoIh7mE3ngucn8OBlwnOyzb+uWa8B6UetJnoQLMqMSQENACfNS/uDR3ub3HuB9wDoC+b7XMU8MoHvNxaPti+ua9e0evB14IHfar7h0SyJFcGXcXNdnNaSyMBFHeaYRYCgYMBABUHb0zkBIboeG4WAcAQZ6XhehfU3V0AfNkMzYKGDxMzJ52nE9lhfgDNS+aO55vHEPT8hewhs4+I7g54zxp+I4jr67ZvEFQ/FCm+SnNz6TiMJUsrl1Y8neZmgLwEZYBzswyEAA4ZyAHBQQkhAJiTEsJeUxDMe+EhKMgBfT83iHtP2vyVQyM8B+x2vquQgfy+tu9H5ztAdS8lvtfy93W7Txt8Y4gLvjE48NB2H6h9EK2+KgRAlFzMmgb3hdBhp2XaOqghWnOiBMAIAYlV3d2AmmMTsh6xIW5qAyMOPbjsISw94EMgAvo+bOFzqAPu87DudXMgAAcwdwNzJwDYL9h9/Qjvsxt/4Ds+TB1/nfaq8//qqzNb6Adeaf/VQ0Zyd8QGMhVDcAbryC4shTrO1modJaSD5TJny9MuZ2u0NCanKgSXl91Tly/y0H3x+o0XX7jZmhEO4ORAgHYXEe3fiZCIAGHWDeAAhi/b0vvBEOwXYP9Cbri3Vubn+vVl5g/vQi/0e4AAAAAd/WWT8f87QvLqisTv4ioHhFkHAgL+QY7xPchLIMIeU+cE0VxKHrACMfQ9EYlkjNJ6aobb2lprKfiFg+XREC8fhWHVP3506XOw3WTkxcH1O9N63EJr6oHDYS1KYowZ3VlSxp3iBEBUA3tnPlsGAwRA3WOCc9G+a6LdDUABFQDIA2rnZMYjOqETOiMwOTpUQDckQ5qNh/sMPva78dz60jlQhXsqywzuQr37pPX+Px/qXTkRIDA0rBWRHMWBDCoKW2lAs742UkVEDl0zRxIAQ3C05ugO6ETCTMPQh5TUrMtTMyUSczIzVVWrnRAQ9REQKJKtkl5a8ipC1Olo6Psnrt48mxYXL64v683TzY2cn3npJCsCBUV3qtC05Zo6i4Hcobg3a+6wF1FCgAD4ik3+ckiOs2yRM6KlUKKjOTYjdcqABtqB87y52IzAHLzdp5juAiOHlwvzPt73sql/8M+HarPZ6BlGkADeoOZhiGJTydOFSxdXq+Xzzz3fDf12V3OFWqv0C4ZC3shBjQzJARFBYgjMMosDEcUoTKHkqk1NqzAlIRbpaouB0WxgE8vYHJTz+mxo9bI0OHvpqF98y+OLL27x9o01WPa4aE0RnToWbxcED5AM4Ta1E67ogiAOAhQAggMDOEE7F3w/f0kEdEA2BJ91lBnUiugOgE5oZKrQyiyRjEiEswWn+3wnvTtlD7RvEhohBlUDrhQhCLRtgM0bnjh6yxOP1Gm6fOXK8fHxV7/SM/Nm3T7ze89N2E0QTzabWS0ZsgOYqwMIi9RatLgDGLi5NjBTKHkk8KFbBIbAGiLFIEKBCYVM886ZgbBbyvGwKnkqZQs6vibG+sjRmfLOwmaq7mCCTnrUfNHUHFwMgoNRy3mqpVksWgATczBzpHOwBAAIYG6O4MTCqhV8AqaaGrtzbTRNPo6vfeKxCxfCrdu3X3zpRrGk6ci6Yydh2wKCE6n7nEjwh3lKf2hbDTAnIbQ1BGMOWragd5ay+dA7vutd33rx9vUbsUu1nD3+5quqKrl+75uuvKQHP/NPf+faKWFIgA6YzfTq1cu1ZCmlmJu6IxEyGQKABglJJJIHqD1LiiEJpRT6vhMRQlTVYs0ERST2HXdBt5vdZsvj9OQyTMij027kaVc2NVfCpfAicL9YHJHvyJIMpnjj5OzWWXbpDW1b867NaNIRwdS0NQAAEkYhA3IHywxpOnPV9RB3733boz/0vvf82L/6wQsHB7udffZ3v/TxT3/5f/uF3/ryyUmlgWiO1BkQOiLQw9MG36x9dhMR0N5ORU/f8i2X3/GGN779qUtLz7wQtVogr/qIxHZnm4bl1547OVufoCRzAq9Ybl+9fPzdb3vquWe/IrVWB1A3B6TAEuMM/hCc0AJRZO/ZYwputtlsiZmZ+2GxiCmPmzLuNjs1pGmyUjiJDQMHAqk1UEk+dWTNCQCMHLh11mLV6BpTvzwOlwYy6bLZ9a2/uGPVpqoATgEpoIK7KTT3oh3qtDu9cDh8/w9+x8EA73jba976lqfu3Pzqb//2bzEI1Pamb3nqA3/6+3/k+9/567/9pb/y07/45ZskQ28zfDrHU/t2Xy5vHwp+WXv1TeF7aBmlbm+99lB//Afe84bHj5fDUEqOxIujCy+99JIAeVUWyXF1Y8cf/8KzJ+vR0fowXejxyUevXL10dDTeXixQQmAAVwNCJMYgMAzLGOP61JNAFwO6NsfZmiMhE6nqerNZpigGtZrWDCSJOPSDYuHEZs1KRqh9B52E2nhba9ZpnCwisFoS8XEdWzki3k0bVzvgYRp4u50ma0rUhXg0LCewm3e2WlQEqa7/xA+89c/88Q+9/pGBWD7+25/8az/5l166fuv27ZOmm5svPvPhD77vL/83//WVBH/2R9/1pqcv/8W//ouf+sKz1hYYFkDRzdGdwN0VkQzYiQEQrD10kl+2IAjgjc0QyCgYGGJ1hcOD/sd++G3f9+bHeDzLXqQjbbbdnAHQarUkoiByq+iXT3ZffuFFm26/4cnH3/3tr3viuLu6OkzCt25cWwMKgyN4IGeCRSdXLl88vHhpqvVrZSvM7q6AEqJ5RVdwqKaz+ORqKoJJ2J3IAdQBmhEZQaNUiJQAqTAZQEKSRm65Hwam2JjYrRc0LQwQJXQER6h3iJ/d1lO0AuNA8VJiKvbSbhMj/lv/2vv+7A+/46mj5UvXT7/63HMf+Se/+sSF1dNXLtw+uV1LfsOP/tHveuc7b53Vg4ODmzduvfVbL/zUT/7p3/rI5//3f/Cxj336xVIGiAlQKAgxNWu+j2Ih4AORGnslfJ9jU6FOoFwkOQlhJrOo49WDntzPNmUNOR72vUQRuXz5sqrmnKdpunV7uz49fe9bXvNdr7/8rre9+dKSxzs3hn5MqUs85GMSQjDTLqUofHR0cPHihX4xjLdPGLHVSoRm5o1sj9bBWnN3RFTVEAIzE5GZne9edNOWJ2vVTcGdgDoidTPBGPvF0APRRAgO6O6NXAGcl0apeVoevVB3VbPhVHh72eob+/pjH37z93/wXY8fDZeXXSnlwsXjKY8f+MB7j46Pr169mnN+7LHHiKi1RkQhBHdvY17W/Ce+9x0/+gPv/if/4jN/6//45Y//zu9v+DL1j2Uj44jWgk0EkLG/q5b2802v3AEOiNJrq6am7iTBcICT68OysOXNbrOpOYsSuIMj4jiOpRR3zzmf3r52mPqnH3n0+OjwcIjT2c1lF0MMMUirXDJI3wVteLhaDl1aLYfAeHrn9rUXXwCAyKSqoGpKRnPoC2qt8wKUUhAxpSQidxeg1ErM7iZCIgQAZt6aqnt1A61uighiZm7m2BqpuQGo5urtztoBewnQ+3SB6hOH6Y/+0A/94PvfVbd3rl273qzntBjPzp566sk3vemNqm2z2bqDu4kEEUkp5TyJsGC35DiubzRuH/7Aa9/7XX/+Y5/4/N/8e7/2m5/+vHdXoDt2ZnPG+/I4L2MavCJK4oBlt+D81GsvXzsrN9cnQydPPnHhA295ZIh+686tWr0RBrdpmrxZUwWAw8NDd+8PD0M3dF2nNWudlgd9LWW92zFRYOpTlEAsAYcuLZdDDOzaGOHC8fFmsxaRUkotZRp3KewDXnfpGPNPIpqHbmZmRgAtZxHpU8dMwgIIOU/r7a60qgq7XENkqK2pZ5dsAUNioBF3t7loB912dzhuvutbLr/z6sHxpYPjo8OTWzdPrr94us23i7zhdU8vFn1tBSfPOdfaYgzDsMo5n56eHRysiAiRFLxyTAvWenr7zi2JRx96/3e+561v/Nlf/Cd/4+d+4/PXz3z5iMYOQ0Btr+DXOL7MWrs7mA4w/vEPvv07X//IrfXus7/37PVr177729701tdfZbilGUypSykgu7emysyIOG9HjhKCgI67aW2tqmprTm5aphCCEeC/8x/8Z8J0eLAaujh06cLx0e3Ts5du3sxTRoSccymFiO5Gfl+RuiOiGONisZgXAKy1VoVFRBBRRACxqE25jc2rUzNsBjWXCpJpmDw0IAQonE/Gm/1Wn75y+V/58IeevrgY8nbr5sJXr1wSwsuXLgKC1dqzl1JOT08PDg6GYai1btbjdjuK8KVLF4k4BEFmBQdGB2jamroarAiE5dmb67/7i//87/7Dj39tFy0dOcme7HI3WfRyb8HdodbHBv8zP/TmdzweQNvpumiux0cXKTXAtXBXJ4lRQKfd2Y5ZFouFiLi7mSFDyTtoOQgRhwY8FhXwVutmsxERCczD0HVRCEBr3W3W67NTrS0Ku7syU4wxxrt+pIjMJJT7o8Rz3MLdhEiYRdjdzAwRgKQ5ZvWxtLFBc2qOW+eTYnfqtGl1ympaEcsjy/gjH3jHv/nh91243G/GOzqlNmVDlr6PXdcF4rJB0oZpu9242zSNIfALL7xwfHT58ccfa63W2rpOWjOCgjzpFKMcBhegrLDLuGiKT1/o/8JP/JEf+eC7/vb/8y///q9/9tbYeYwkARF9nnm6tx3m5BpKqhKfv3b7uO6eevTCax+9WLfTWMcx75bHUZsLM1fbbbZmDqiqSkSzio6hi7EDNEbjEEn6Xdt5m/q+09ZUVToCbq2OOyWgLqnSpeODg9Viu9tN44hOoY8xxmKGtG/73JSjGzRt2lptzVRTSiHInMaa83+I6CycYt2dTGV69LEnFsvV7ZM7v3f9Vkwr8X5789RbfuqRgz/2oe/5kx9650HAIUA5W1++cGEn242vr1y9errZMRmYUui2Z6cf/+hHfuGXfukDH/zg+7/3g2MuzaHrE4CZaxpSSKE2LWqu1scAUNFhsz5bLjoU1uYA3HL+tqev/Od/7o/9+I++/+d//dM//6ufeuaOtrTiiAg7ckMObgDmqhpCslpb3j7z/J13P/n6w2EQ0BY8j2OUuKSjhlZJW61A3LwJQq6TeTVtMQTUAm6hWwiTmgv6YSdek5kH5sCMf+7f/0+IkJm6PnZdGoaehVttqqqqTdXNmlk1v59/sYc8gLP5ZWZm7ro+pWRmrdVZcRFRcxgOj4fFkFJanmuqszytLj/93I3y03/nZ37wA+/8iX/jw4/2sHTNuUgUM0W05XLhIq217WbTxwRq2vRv/y8/tTm5/cEPfei7v+c90kUK8pGPfPTs9M673/Xu1Hfb7dbcDw4OgCBEGbe7VvXo4PBX/uE/rqW+7Tu+84nHH08cr73w0tGlYxA+Obu9Oji4toX/9Rc+8n/9xu8+e7KuoDQctmrg4LUNi6GVamV7ge78xA9/4P2vf2RFO8cKMd2+tWbgC8cX1NTMzs7OdtM01RKERVAQXTVG7roBkWJMKcXWmrtra2UqrbVaymKxwH/33/sLxMhCMUqMEoII83kcy1Wt1lpbM3RVbe1lJgvPN0XXdcvlMsYoIqXUaRpba8fHF46Pj9SsG7phGEIIpRQmYubjZe8cTzOcrrfvf8/b6/YGWYu8aK3Vmo+OD8x0u113q0N3EAefat1Nv/LLv3ztxRff/NY3v/cD7zs4OqramGlYrX73s5/9+Ec/+r73vf+RRx/98pe/9Eu/+Evvec+7H3/i0SeffOpsvXXHn/vZn//oxz4WQlx2C1Z7w+u+9dvf/vbvfPe7rl177trXfn+5uvDY69/y5Tv1lz7++Z/7Z7/z2efXtdhqSN/ymsdPrr2keXrs0vJ73/7E00fD5agHiYxgq37n9tnR8mCxWMxzstlsxjztcp4XgNxdWwgyDAsijjH2fd9aq7XmnDfrLc4uursU9cACjqV51Qq5CCK4q+ocHyUkNaVArc1xAph13KyLUkpEYNaIgAhaK7XmnEciWq2GRx97hNEFnYgBYR/URjw6PBqWyye7PvbR2w5YQ5ChW8QUYuDPf+FzzHTlkasofZlKIr6zPfvJ/+K/+uJnPrc6XD330gtvfPObr12/+av/+B8z8dOvffqtb38rqn/mU7/D5gdp+PTHPvFb/+hXn3r68e/9gR8aSwtpuHnz5J3v+h4rdRHT//1//uzHfvMjw/Bz737ve7DvHnndUxdXp7/8j/7R7V2+Q4sf/973PH+K//z//cQiwOOLbf+tS27xiUcvPXk1nl57bs2Ey2UcViShVd1tt6qKiGaWc261tdaIwKuTu6sCaKsJcO+6uvs4jtM0bXfbedncHX/kT/6HXZcAHNG6LjWtWnMghHMagbAMw4DkuWQiEpF5AVKKzJBSImYmWh0cBJEQgpnVVlPqHnnkkYsXL0YidHWz/ZoBHBwdx8VRSOnO+mS9Pbt66eJiWPzVv/I/fui93/OO73jHpz71ia9+9Uvf8z3vuXjpYgjL55974fc/+/mf/5m//7nf+fRB18e+25H++J/6U89+9Zl//s/+marVnI8uHoQoi27oQmzjlKfJWyMyZ7l5ulFON9dbDCkGetubvm0p6Quf/ow1VbOT5uPxowedPnl1efF4tcmePVLfPXL1kVXfdYyPXDgKYKkLZ/msTfkgDn237BarbFBrsVrNjIhqraWUUivFkFIwrWiWgqQUlsuDcZxmb6nWenZ2ttvtcqm5ZCZaLpf4r//b/2kQbq02zX3fqbVxsxb0EIKIpBgXy6UwqxXTGkLq+s5UiWix7FMSRCTivu+HoQfArutCEJEwo2ARiSIEYKqL5fL4+JiZg4RcHdBffPGZ1upjjz393/23/9Nv/Pqv//APfsjBbly/9h/9x39+dbB47tnnnv3q9X/wc79wdvvk2gsvHi5XtRRg2kHRWi8cHmmp7CAsxSdAt9KGkFapZyQtE5E6h9F4a3RWbVQnMdS6khQVCaC2MimsjVzA2FgwIF0+PFoeDZeuXnz9t7yui/HyhQspyI1b1zNMq351YXVx0a36fnlydorgu916vd6YqgO4u7oB87wASeRwtYxRROJ2uxMRbTrlabPZ7MZxM44AMAzDcrGQ5WpBCE0lZ8ilOFjXdZE9pZRSEgmEyEKLtGDCruu7rlc1JOr7JGFvD4iIiAGAWVLqUtcxkZkxMQISUr/oL126yMxBOHXpxldf+MqXfv9Nb3rdnZOT//4v/aVf+9V/cXB49Fu/9dH3v/+9P/zDP/Irv/Lrd05uf+ITn9yc5py11BKWBxOgSjBXJO4WCTje2W271HUhKJK1KhJcwnoq0FrfdRx6RTwbxwyMHBm9WDZ11xKcIouhTGW9ImvYbUyqSim1bG7wTTvZnA2LgwvHFxqeqXmK4fCwP1wervoDcm6ayVuxVrwVq6rmZoho7ujQEN0t9l1KPSCUUkMM7n56dtpaBQQW0lpCiEEYwMV1xzEyAbooY9d1fSKGNjv3AM7MRAjeCMlbrROaA5N4DNylFBOLqO77xyCLYSnMKYQUgrDEwAcHQ21ttVrknL/w+c997OMf/8jHPlObrw5Wn/rUp7ab7eHFQ2F66rEnr1+7+Tf/558+OTl5/PEndltb51xqiSmWpojIwpFwCMEAFwerF05Oi8NZUQIg46ETCaxW0XWn+eS0EBMiCDaGthQuzmeTqqB0sq0VmXzRnZaJ3ZNga9XmOI/Vl1640conX/u6p55+6snLVy4fHSyWCRIDeGm1qRqAGvsIefJirtoaIS+HJTkKS5COSJqiiBCDeV2vz3bTppTCLLvdThgDo7dqhHLl0oVhGMbdLufMIgcHh11iBmXhnMuMnMytqu1K1bYjh0C0HBbQs1bKZszc933Xxb7rEsEg3idmhLOTm6DGPd05g3FqudLnfvfLf/On/k4u6mCmDYlijMujS7Hvps32mWeeYaYYu+Pjo5s3r9emrU0xhlomM+tSikmS0LIXJNlMYxelgTsaSSrTlM82OUlkJyB32Ow2zLQcegmBEBi9E3FY5DzlvANAIYkxdH1SNWsOTP1iaGq7sRHKreu3z+6cXX/x5lNPPfHGN7wBLh9vxzL0GIURkIKwK5tpyWB2tFodHxx2XV9yDSHEFEspgG3Kk5nlOt05O8ulIdJUChKl1DMRIJZS8b/8yb9mZtM0MXNrzcy6Ph0cLABws9mY2QyeJlA3BW2LGA8Xw6ULR4vloaLMKoiZVsuDxXKRUhz6/rOf+exv/sZvfOqTn3ztk09/6Ps+eP3kxr/82Cefv3br5skGKA3LFbv1XTeb9Bs3bjj40TCsAocgm+2amc/OTlOKBuDgtda+7xERkQLjsgvIUpsr0tlm3Gx3RqnUhqaMLgQpcNd16922lrxaDEKI6OheFJ0IAdXUVGtr2pSYo0SRVGtTdWYGCrXVUopaNddWy4VLlx594qnj44N3vOMtr3nsERYreWwlt5wBYNGlg9UyxVhrc8SmptqExcG32+1uLJvdWEomInff7cYQQsA94QwR8a/99b+92W7W6w0zmdqUs4NTkBluzgtQamkzIiJ86vEnnnz88cCiDrnqer1eLBbL5SqlmGv7zBef/7Vf+6ef/70vaKmLYYgcksRpu0XGfhkpOCfkIMGGNuk4jdM0jeN4dHh4+cJxPrsTAucyumspYwjCEnBvYOjcNbFzdiOyBANUtbPRplKDMM5xBDciCAxMGIRMG7oTelFsjohARMysqrvdVGtjZiYBYHeMIeZsBsBMgGbWRHi9HdcV3NtqmS5dWL3x9U8/+ujlVb949MojV65cHLoYA23Wp6bmJJvNZsq57zpA2G53u6mut7tpnAB8hkwsAmp3Qx34t376780yXlvLedputkUtm9Va5+DzHHMe+i6k7uj40mJ56MCf+8xnf/sTn3zp+kubzeaP/JEPv/4Nr//KV77ypS9/5aOf+f1xqkPfCUnN2c07lsScIi2XvFrJON4h9CTHJdtuu0XCYRgQEcy9lKZZAjlUEYgpDt0ADqpmbtpaKaWpEtIckXXwGEKI0TDtprzdbruum4EAExIquIIbgSMYgldnB7rL83Wz2dWBmfts6AZTLhISERODuzPjOG4MWUNnrWkrBGpWhSnFvu+6R65eeurJxy8crYYhLhdDSgt3bK0yC4Bvt7tdLtU951xLcXfEmU10X6rhf/jLfzXGmFKarxBiQ7q93m632xBCKbk1PVitEmI3LHfFv/zMi//0Nz/6xS8+Q530Q1wuF4eHB+M43bx5q7XadX3fdW6mtZUpp5QuXT50ymcndzriniUCB6YKNuufUrKpqVmeytAvm2ZkWyxiTOxea242UyJnnKcKSMTRTWcKhxAxk4EQSakt1+KO6gBuTMZETMgINJPdKcJsl5Faq601JqnVWrPWDBwBCBwoBAOvNbdWhqHv+7SdRmUBO0+WmZNjdmxmTJ6nzdAxi3cxHa8uXrly5ejwqOu6eUobAQqbWa211qqqphaYcc/pQ7l153rXDV3qg0QzMPesdjZNpVYqxQGYaT3mL9/afvzjv/qF3/9ibqDI3WohIk5w52x3+85GzRwcnUup025EdAkcIi8P+ux249Y272qwfNT3hwOX0opZjLEPAgGqTrlVIgRXBHOtJbsquldvhQh5ZuMiRGEgaJ7nyUKI4zbXUkLsYmJ3sgq1VgNPMQSSGZwruqMTYbOm2gD25a3EiAJCAAwoYAatagiJ2AE9hGDOpUzbXXZANwdw4VBLYRJ1ldgxhSlP/fIAyaeax51uxrMvfe2mgB8dHqRA4AZBUOTq1SsXL1509zmd5Q6tqbbmAOKAqjZOeUJFEHefFNZb3e1GRLp+7frXvvbcCy9dv71pVS2mXgQEodWpVX9FSZ4DuKNaY4JaciU8e+EEIKjHGBgQ1+PWLAuBas2NpxZUq7kG4ZA4hKkXYokA2rSYNicHd1UTkRACERk6mgEQQnDns/WtFIfUpamMboBkqWM16zoRYkBANDNFAmYURDuvOdjrX7R+ITnXUsDUg3CKbKZNdaaCR06tNTVndHdPkYZuMFVzOttuqpk77HJjYmIGwG0ehckIb52cIBgzqRmHcO2l6yGEGOOFCxcODg9CkC513d4RGy52fdelXtU26/HZZ5/5ynPXnnvhxvXr1/aq1o04LId+s9mQNmISDtIlBDcv85uYmrqBWQfo0mIIMfWqNaVe1Qg4hMhM05TdLATpAxA1xMKMREyMhAY2mas2BbCZnyK0JAgAYIBFjWHmtxMAmqvbnPYDDpCQzQ1BxnFMKTo0x5nTaEiGDEgkLAhoNqdDDdDdvY4VzARAYkixI6JazZgcoLWmTUNAIgGWUmogd1ADVbdEnoRFxDS4OzEREnTQVNVgVK/qU6tCXMoUQ2hZRxhPT84AvB/ScrEYFovVaiW1wLPPfOVrX3v+9u3bc+zz5Oy0mnbJwSGmlGKsTdeTpsMFAJyenm7WGQBCwCAuEog5MC0Wy75L0R1cRdhBRbpSCipazdqKKx/0w9gMHBInclJtLVcAY5mrUM9TsI4iAwm4kt7Lf6p7mWm0Zm4KCMwciGi3zYis6rvdrtZC1FarAVIjAnMFcHADcDJgQCQCB3cDxMDi7n3q3L2U6jqVom4z9c1AjdzJiQBNK1rV2kQECQh9NYRSmmuRmfsNBqDgFkScJXVxajoVJVUJUlsLLMQ0xy1qHu/kcX168qIZvvM7v//k5DYi9ENXahZmpBY7mgsTidDNt+O0HqE1q60iQIopdV0KzKit1qY6J8RNrZUydF0/9Ccnt8dxw8wEjurqaMgNRIG2uzGpLvpuuRyIUbW2Vg2MhOfaDVVPqTMzxzonoWetbWbgPufj5kJw9znESKvl0ZxpSClpU/UKoaYUU4rurWk1VWvKSCKiZiIMACkkaBaCALqZIkJrlSiqupua38eVJsHzEqSc8ziOtTY/t6QikmIKQRAMiQC5mDeDqsDg6NZqM7fZmM12/G5OFx9//E0AHqOIoKMRAoKbKhEioqqZKQBMWlOX+r4HACJurbWcZa4hcmBmAB/HXIqn1KcUdrsNCxIhApuRuTd1BWCOtRYGZwKROaU/qwQFd6aAxNocgZm5waS+Z8HMaW4CJEcJQoSq6q4AoEbMYc5G+Oxkq2/HUmsNUULguZBSZ+3jrqpd15mZNcPmiGDeRJDYiaBW1IZuaubnFVIzjx7m1BMiEZObzZAGEJiIiIlwX7GJwERBWIIQkZm3cy7PfLc81Xt26M3f9k5AcFcJGAK7N6aYR2utmioAmlvXxYYbs+bmxDSnCgR5f5gDERMRUanNIAFwrVmtMaG5qqJBnJM3bsYi4MpiZs29pS4KU9OGbgTYmpkCc2jNU+y6RdqPkhAAWmumTg6qTa25GzMRIbI5GPg+X22m5hHouLa6G3fTtCOCIALM7tBaQwQJwVRTTFBrKfmJ1zx2+/atKY8ipA3Ayczm6NPMRLDzwoK7afCZYH/OfKT9N+CEs9QrgTGCoQNzEJnTBjPUFx5mvl1TFdNm2pq23aY6KLgDobkhQUrB3ZCh2BgFQRAB1QzQzgu9EBHdvLQ9z96s7Dn9YF3Xm+F2W8EhhDAs+jkNDQ6lNLUWhK16OaebqxOzSCBV4wDNy24zzeomxhhCYEZDn6Yyu+gI0Gxmnjff+5mViNzMoBoZIjJ6F+ZYLWtzd0wczNyLxhDYLfb+3e9658nJ6Ve++MUYe8QUoAEqyVzTs7dBAuRmDkBEPu8OJmA6XxCFeer3PGxyYHM0d7XitVaa0yFoOuvRuW6IEBEvHj7mbgAW9vlIAsamFdBTCoCu2kw1CM3rPVNU3J0JWfYIneYSX0Dc11uDu8/UjJzVXMzU3Wd1maesisvlouRpKhOTA7i6m4LwjOju1kG2+YQI2D8a1VyrsTARM9F5kQc6zOC6ttbA3YAV4l1/kwiJ2N3c959FhJj61AsHRr51+9Y4jvOkzKUjtK/L3NcbMbG5gYOZEhOT6HnZwf2VgTJHTHy284T7IgBFnCcbzUzNACrtK7dQDpdLZhYhh1ktKBAyBECLxA6WQsIEYLYXbUIENDdiELn3hvMcOQD4fMyBuxYAZ3QCp4C1NURsZSKwLi0CeQMN6HN1f0BEmXEm0HlpM7IBGiHtK5iImEABzJrV4veOQcEZGyFRZDY3c9iz3hzcnYAIANlxX7pRrGV0LtZ2mURoNcTDZVCrrVV0IQwzmdpMZ0TkZg7zRKOZmU4Ae3rI3QVAAIQ5+4hqjk53a6jpbr22GVpzmMBxLiCWo6Ml4qzl3F3cjRgYyd2RHPdHEti+ZhjRzYi51hojuVeb66zOqYnm1lqbDRKQI4CIu1VmjgHdDSIQBQR0LzIgYAR0cAUgBFZVNRUhnFlpSCzEEsC9qSKASALnWpuZzsMIIrU2MycSVTVTBkRENQOA1KWSi3tzACKf5cTM3Q0B3XaIZubaWFEXiySBTTWXyVQlhL7vx92Omc0MiRCgtSYiZmCmjDTnIvcMeHCHRoiI3JqbGQKpAgCLCBOZm6qJsCqZWd9JU5UuKoADms1nXqATIEKb9RIhqDZzJQ57lrArOKdARGpmhIB4V2m4u4aDXlXNnc4pi2A6u1t3jxUy3TtEEogY3dABz0/qclXd7zQJM/hxdwA2M1MjlKFLRGxuZpGQkOxuvOictEGzSDCze7rrUe73C+IMTtwbQiZEZKjFa91YI8Aw9FFVa9lpm0Rm9W2EhETM1uo2hCBohNC4BS7n74UoyMRE3JoiRCIGIFM3MyQnommqTJDSag4EXzw+wvd+xxvnYnZER3QHZwQGNG8OTuSq1cycAiDNc1FKIaRSCxHuyVi+p1HO3IjzgDHOThB6Q2IiMp3VJpo5orMQ7PWeERFTnFXkLP5I5MjmMFMxmLmUknONsrqnc0Vaa7Fzh1ZyQUQWQQAijiEBQC55Hpibu+8LMWc+h5mDK3rbqzfkWszMfTYRQdy81lpqabUNi2EeeWvVdNZ1tYvzu5jsdTEahPlYlxQHc2hVZyiLCKpWSgaAGBMAzpO23W5EhGuriIBEtVZmVveqykzMNJWRmCTEqg6OZkDEROLu4MGN84hacc4BSYgz/VRk5qy7iNRWkQMZVK3gGGPIJZPDxQsXQgi7cauaW6uqRgQxpctXL24269ZKa418hUbkzcGsKTim0JVRu67LJQMgmDMFzcUcwAIyWXEzZ3avlZlatjn3BA6B96dtmRYATEHcSagHIHB0534RzKCYNVUwBjchbg6rxQHjHDKvMSELxMh15wEppVSrtjZ7gdicVG1YdHXyppZzRjdwI+YUI6CYGZsjKTTVpuxNmIQCl1JKaTEmd0hdMtfWiiOacwodC4tjDBERd7td6FJtjdGPDy+dnp7O6SqriEaMIYSZuQiLod9sNuZhjsL3wwG45pKR8GCxPL2zM9sRUZ4MSZarg9ra5mwMIY9TcWvmim0CZwAjRtWCCCEwJY3RhXneEwCYc2XixTCEEO46R6222rSLi7vbJYrRXPE6i3gI7g7g4zhN01RyCyGl1CEgg6PVORdytOpaa9N2d3zhkFlK3ahmK25NJyME0Ga1qjuaWdGx69L6zkvaVIKYuTAIU5d6gBaDE5JqEQqqSq6Hyw7f9x3fOpP9j46O+r4/PT0lwlImN01dai2HwGq62+bDwyNE3O1GRNirQ3cJ0mrLOYcgqoo4o1ua6xRiDBKCqoHb4eHBbtrsT5co2ndday3nHFMC9ynn5lhrTkkAXAKFINaKm80nZe0Pj0ADrjFGVY0hAkApxS2B8xxqZmZ3qK0SUq0lpc73detw92CnGQ6aOZEj6ex+i0RtVkoNIiJ8XgzRWqtBBF2J2MxUq7uXkiWFppU5tKrMgYiFWURnwO3uEkSbhhSa1iCy3e2YWZhT6rWF1myuKMHvfMMlcxeOqRNCWq/X4EaIfZ+Wq0UM3LQCOFEy8zkbBQim5mgkOKfZ3J2Fp2nqUkKk+aK51VoFpYxTrRkJEC11CQEEhYndPc/cd3dHnMUWEM5LDpC4AeBMVyCMRKG2ESiHENTU3WOMZgZOADTbg5mbX2udiUl7IOBuZiGEeernjVJrFaHadogEQG7QmopEtIa+JwAyc0qp1jLjTjdyw65buKNJy21klmks4CQhoENgBPcY4263I2JtTToZS44hllq6rldt7kgYZ0o8M+MPvedpuOdQmDswIuMc0/DZFAM4QiISPiemA4CjGdldbn1r7Wy9XQxdiFGbttZ49pYc8m4CsFInN0MCJBBKhJRSN5tlRHQEpDk16IAoHHa7qalLiF3qALgUbdVCoJDugZmZPgyYhyEFCbMBPz+ZZT5JBWtrZjaNo4S0d4VUEVEkmLWmW3d0oMDiTsKSp51pJcQQY9d1RLw+u4PQmANhEO5atRC6TT0LPTGJO7mhu4FRCgtVm2MMi8Vit9tJEGTe7XamJkFmWNj3sZYSYjAzYdqfz8csOMN/BwFHRIdWmwozi5iym7tWESEhAGgOCjafI5BzVm1C4Kbb9dn8kvNKCTOjpC7FLtw9Y0wbmzqymDkRsbADVKsAaITaPNcW0gBGRGQcUkpKo4c6dInPDyUiRBc396YQOGw3W0Jy8JnbgeckeglhFqFaJkAiwjkUimghCulg6gAgElPsx3GK3SrGmHMW4am2aRoRE4EwJ0AeqwIwEVKIjliqrw5WtSohh5CmqVUtIUZous7TsFoN3bDbjf1CQginp6dXLl8xt3HcAeF6O6WUxOc6zVmrzB6d+VxbQYIphDm86EataWttN+51XDMrpnf56sKhKRBYzo0Q4nmJkrnnPM2iaq7n08LmGNEdAZlm2M8c3OdAiiNKPyx2eavWjHSySbk4tcnG5OwAhJhLnaEuIk27jMClVCIWisjIzCLCwqWU1loKot5CiCFGIpqjvLVUN2JmdyQK5myGaViiMDo7UuokLcFVd5t1cxTmOPQhCLO0yVarlapu1ls3SKlHMqUy2c6scWBwNy7bXJFIGHLZhAh3zm4AYJ7Q3BeLQwAQtTqDFgwy5+uYgmNwgKY2FkUEIm5uaq6OQDKTahx0jhUiEFNwxMAMCF3XzzE7Mw9BNI9RQDXvJz4EEZ4L/hAMCIS9lMzMLMHdwX293bbWrOWYgKBaMUcQZjNXq6MbE7lDkACzd0R8dnp26dLlEOJ6vYkxEeK428TU11aaW0NnwYBd5LjbZnBSBUI2IEUhjA6eq3mptcF4ekdNmejg8EBr2e52y2Hou67vujt31qtFp6a1lGVaoCI0WHQDIvZ9v9uNEQKnZa21T72ZifHZ6brvh1LKDHNarcQkfRMJ5m273eH7v+PyrNZbazMyq0VxfwghxhBra2YtxGBuM8KbeTUACve8GJl9nChgrqaGiCEEFjGt6Dp7Q8zibjabmvMDY/C8Eck0ZW1OxMyBWdzbXGo5U+y3223f96qQUgwh1lpUrTUlDCl1Ikzku3GL85HGrQKiI7emCr46ONxttq3pbLvGcULgw8OVJDAzJlosl2enpyw8qwgzW61W4ziKCCNNu12K+9j4vLfMVZimnA8ODtxN1Xa7XUjD7OLFEM7OzhbLZZ5ylJDzlHNm5jkKEoLsdiMRLpZLmRrPSRqmWOcDgMMcagYiqogYk0AkbwSo+wghMMynRsp5lCy4ORK1tpWAXRfdPUaZcgYAt338utUyxxRRaD7yYMbyRGymw9ARMVNIqc+5gGMIca5GNrf12frCxatDvyiltKbatBZQdUIJYQUquzwitu1uFxP3XdcATD3XKtIHTtde3N46uRVT6vuu1hpj74DNUaxqzbmpW+1TVLPVYhUwsEgQIZc8TcDUKjLh0A/7qlAEb1MpJcaUc2Hm9dnG3JtOTY0IYSB3atWYcBw3MUZ3bk1FuDXIU0VgJmnF8J1vfTzFWGsFQLP5PALPeScShqGvdT53xzs0JiTiWgszM4ujsjAAmoE79t0wjmOrZ0i+WCymcXJwEbHmoJRSAodc8gwcURgQZjg4o8Nh6Lfbbdf1IaSSW86FkGMcEHGaplrrNE1HR0fzksz1bzOi2Gy2YN1qddh0Wq06wFrbNI2bFFKtFtJi3KlTXK93hh6SqOpc4tD1XQoYcRrH3XK5nC/udjtTVPWUkvvsK9AwLAhlJgky83a7jSEgm7sh4pztChIccbudWGS+TsTjuFv2UQhqq6o6s/BijG5cayXmViu+69uviOwXZ19ka9WsppSYJedpDm4lBKL9Id1z6C3XbADM0vcLVXDzacp9gq5Ps0ITkRhjKy2PdRgG1WbmpRQiDCmFFFttALBYLtycCLbjBoG0Wdct5nUFp67rmGWzWc9bGBFbK9vtNsZIRBJE1XeblmKH5DHR6dktAHvzt31bpLibyrPPvXB4eGEqut1Nm90ul5EIYmQkkECBSazNcPbg4GAcx1kZTlOeV7fWulgs+mGBGG7fur1cLVPqcp5m0Hjz5s3j4+P5SAIRQcLXPPnarks5l+eff37GJpo3Le+GYZgJljM+3I255LpY9CIiyx5anVInTDaH0szRjN0rmS4Ts3CUEFjcTNVaqzOwc7exlsVimXN1x8WwIGKwWrIx83JxlHPZbQuTuGMpLYQgQnMssjWVgIvFapomMCTkWrMblJoPD45KacQiLO4eIpm1EKk2F0FAR8ajuJjjusxSa+VDAWind04B+xDE3bfb6c64Ka05tN101i8Xw2rxCCxO79whhu1unRKbN0YSCOa+nsb12R1mbqpEuFp14GCufX9ESGPO4zT2gzSdqNmw6HKeiPDg4NAdtOlisRSRZ555JqbFLKM3btyKMS4Ww6LvTJyZaq0I3HWdalut+lLLZr3puoA/9n1PTzmnGFtrauZmEiTGhADMrKZEFCSerSfVlgIDmEjgGJv7YrHMOYeQWrXNZprGKUbu+yQSAObjDCoTEthd74iIp3GiwAeHB9M4ufuUMyHWls2aO3Spb82YAxOXlpfLxcnJCROLiIMvFksOVEut0wQIIYVmuuiWqlZrA4BxNxHJYljQXNlMXlubypi6pHkSwlIzM5qru5qCcA/QdrspxX6xXOW8zWUnItM00Xl0EhAlLEIIah6DqLacy2JxqNVqbXOwL0/T2XodY1S15XJJLMMwlKn0He62dwhpDlFMUw7CsWN32252IuH/A1PJ88aP4pOfAAAAAElFTkSuQmCC\n"
                },
                "metadata": {}
              }
            ]
          }
        },
        "75948e20f56944dca32414287585ecc6": {
          "model_module": "@jupyter-widgets/controls",
          "model_name": "LabelModel",
          "model_module_version": "1.5.0",
          "state": {
            "_dom_classes": [],
            "_model_module": "@jupyter-widgets/controls",
            "_model_module_version": "1.5.0",
            "_model_name": "LabelModel",
            "_view_count": null,
            "_view_module": "@jupyter-widgets/controls",
            "_view_module_version": "1.5.0",
            "_view_name": "LabelView",
            "description": "",
            "description_tooltip": null,
            "layout": "IPY_MODEL_41b1389694a94eaea846a465313a3863",
            "placeholder": "​",
            "style": "IPY_MODEL_3734fde1ccf843cf8998d56c13bd3618",
            "value": "Prediction: cotopaxi; Probability: 0.9296"
          }
        },
        "da5c7410a5d54d00b8308cfe9d408634": {
          "model_module": "@jupyter-widgets/base",
          "model_name": "LayoutModel",
          "model_module_version": "1.2.0",
          "state": {
            "_model_module": "@jupyter-widgets/base",
            "_model_module_version": "1.2.0",
            "_model_name": "LayoutModel",
            "_view_count": null,
            "_view_module": "@jupyter-widgets/base",
            "_view_module_version": "1.2.0",
            "_view_name": "LayoutView",
            "align_content": null,
            "align_items": null,
            "align_self": null,
            "border": null,
            "bottom": null,
            "display": null,
            "flex": null,
            "flex_flow": null,
            "grid_area": null,
            "grid_auto_columns": null,
            "grid_auto_flow": null,
            "grid_auto_rows": null,
            "grid_column": null,
            "grid_gap": null,
            "grid_row": null,
            "grid_template_areas": null,
            "grid_template_columns": null,
            "grid_template_rows": null,
            "height": null,
            "justify_content": null,
            "justify_items": null,
            "left": null,
            "margin": null,
            "max_height": null,
            "max_width": null,
            "min_height": null,
            "min_width": null,
            "object_fit": null,
            "object_position": null,
            "order": null,
            "overflow": null,
            "overflow_x": null,
            "overflow_y": null,
            "padding": null,
            "right": null,
            "top": null,
            "visibility": null,
            "width": null
          }
        },
        "a740cf0ec9c14de598f79aed7ffe4304": {
          "model_module": "@jupyter-widgets/base",
          "model_name": "LayoutModel",
          "model_module_version": "1.2.0",
          "state": {
            "_model_module": "@jupyter-widgets/base",
            "_model_module_version": "1.2.0",
            "_model_name": "LayoutModel",
            "_view_count": null,
            "_view_module": "@jupyter-widgets/base",
            "_view_module_version": "1.2.0",
            "_view_name": "LayoutView",
            "align_content": null,
            "align_items": null,
            "align_self": null,
            "border": null,
            "bottom": null,
            "display": null,
            "flex": null,
            "flex_flow": null,
            "grid_area": null,
            "grid_auto_columns": null,
            "grid_auto_flow": null,
            "grid_auto_rows": null,
            "grid_column": null,
            "grid_gap": null,
            "grid_row": null,
            "grid_template_areas": null,
            "grid_template_columns": null,
            "grid_template_rows": null,
            "height": null,
            "justify_content": null,
            "justify_items": null,
            "left": null,
            "margin": null,
            "max_height": null,
            "max_width": null,
            "min_height": null,
            "min_width": null,
            "object_fit": null,
            "object_position": null,
            "order": null,
            "overflow": null,
            "overflow_x": null,
            "overflow_y": null,
            "padding": null,
            "right": null,
            "top": null,
            "visibility": null,
            "width": null
          }
        },
        "51173133025648f39a3c0506c29cb505": {
          "model_module": "@jupyter-widgets/controls",
          "model_name": "DescriptionStyleModel",
          "model_module_version": "1.5.0",
          "state": {
            "_model_module": "@jupyter-widgets/controls",
            "_model_module_version": "1.5.0",
            "_model_name": "DescriptionStyleModel",
            "_view_count": null,
            "_view_module": "@jupyter-widgets/base",
            "_view_module_version": "1.2.0",
            "_view_name": "StyleView",
            "description_width": ""
          }
        },
        "fee6e71a18e14112b35bdd2e6581e682": {
          "model_module": "@jupyter-widgets/base",
          "model_name": "LayoutModel",
          "model_module_version": "1.2.0",
          "state": {
            "_model_module": "@jupyter-widgets/base",
            "_model_module_version": "1.2.0",
            "_model_name": "LayoutModel",
            "_view_count": null,
            "_view_module": "@jupyter-widgets/base",
            "_view_module_version": "1.2.0",
            "_view_name": "LayoutView",
            "align_content": null,
            "align_items": null,
            "align_self": null,
            "border": null,
            "bottom": null,
            "display": null,
            "flex": null,
            "flex_flow": null,
            "grid_area": null,
            "grid_auto_columns": null,
            "grid_auto_flow": null,
            "grid_auto_rows": null,
            "grid_column": null,
            "grid_gap": null,
            "grid_row": null,
            "grid_template_areas": null,
            "grid_template_columns": null,
            "grid_template_rows": null,
            "height": null,
            "justify_content": null,
            "justify_items": null,
            "left": null,
            "margin": null,
            "max_height": null,
            "max_width": null,
            "min_height": null,
            "min_width": null,
            "object_fit": null,
            "object_position": null,
            "order": null,
            "overflow": null,
            "overflow_x": null,
            "overflow_y": null,
            "padding": null,
            "right": null,
            "top": null,
            "visibility": null,
            "width": null
          }
        },
        "6648ba91641342ad954e8ada0530f731": {
          "model_module": "@jupyter-widgets/controls",
          "model_name": "ButtonStyleModel",
          "model_module_version": "1.5.0",
          "state": {
            "_model_module": "@jupyter-widgets/controls",
            "_model_module_version": "1.5.0",
            "_model_name": "ButtonStyleModel",
            "_view_count": null,
            "_view_module": "@jupyter-widgets/base",
            "_view_module_version": "1.2.0",
            "_view_name": "StyleView",
            "button_color": null,
            "font_weight": ""
          }
        },
        "41b1389694a94eaea846a465313a3863": {
          "model_module": "@jupyter-widgets/base",
          "model_name": "LayoutModel",
          "model_module_version": "1.2.0",
          "state": {
            "_model_module": "@jupyter-widgets/base",
            "_model_module_version": "1.2.0",
            "_model_name": "LayoutModel",
            "_view_count": null,
            "_view_module": "@jupyter-widgets/base",
            "_view_module_version": "1.2.0",
            "_view_name": "LayoutView",
            "align_content": null,
            "align_items": null,
            "align_self": null,
            "border": null,
            "bottom": null,
            "display": null,
            "flex": null,
            "flex_flow": null,
            "grid_area": null,
            "grid_auto_columns": null,
            "grid_auto_flow": null,
            "grid_auto_rows": null,
            "grid_column": null,
            "grid_gap": null,
            "grid_row": null,
            "grid_template_areas": null,
            "grid_template_columns": null,
            "grid_template_rows": null,
            "height": null,
            "justify_content": null,
            "justify_items": null,
            "left": null,
            "margin": null,
            "max_height": null,
            "max_width": null,
            "min_height": null,
            "min_width": null,
            "object_fit": null,
            "object_position": null,
            "order": null,
            "overflow": null,
            "overflow_x": null,
            "overflow_y": null,
            "padding": null,
            "right": null,
            "top": null,
            "visibility": null,
            "width": null
          }
        },
        "3734fde1ccf843cf8998d56c13bd3618": {
          "model_module": "@jupyter-widgets/controls",
          "model_name": "DescriptionStyleModel",
          "model_module_version": "1.5.0",
          "state": {
            "_model_module": "@jupyter-widgets/controls",
            "_model_module_version": "1.5.0",
            "_model_name": "DescriptionStyleModel",
            "_view_count": null,
            "_view_module": "@jupyter-widgets/base",
            "_view_module_version": "1.2.0",
            "_view_name": "StyleView",
            "description_width": ""
          }
        },
        "0605f276818f43c980509fba1964afd9": {
          "model_module": "@jupyter-widgets/base",
          "model_name": "LayoutModel",
          "model_module_version": "1.2.0",
          "state": {
            "_model_module": "@jupyter-widgets/base",
            "_model_module_version": "1.2.0",
            "_model_name": "LayoutModel",
            "_view_count": null,
            "_view_module": "@jupyter-widgets/base",
            "_view_module_version": "1.2.0",
            "_view_name": "LayoutView",
            "align_content": null,
            "align_items": null,
            "align_self": null,
            "border": null,
            "bottom": null,
            "display": null,
            "flex": null,
            "flex_flow": null,
            "grid_area": null,
            "grid_auto_columns": null,
            "grid_auto_flow": null,
            "grid_auto_rows": null,
            "grid_column": null,
            "grid_gap": null,
            "grid_row": null,
            "grid_template_areas": null,
            "grid_template_columns": null,
            "grid_template_rows": null,
            "height": null,
            "justify_content": null,
            "justify_items": null,
            "left": null,
            "margin": null,
            "max_height": null,
            "max_width": null,
            "min_height": null,
            "min_width": null,
            "object_fit": null,
            "object_position": null,
            "order": null,
            "overflow": null,
            "overflow_x": null,
            "overflow_y": null,
            "padding": null,
            "right": null,
            "top": null,
            "visibility": null,
            "width": null
          }
        }
      }
    }
  },
  "cells": [
    {
      "cell_type": "markdown",
      "metadata": {
        "id": "view-in-github",
        "colab_type": "text"
      },
      "source": [
        "<a href=\"https://colab.research.google.com/github/raandrad/ecuamountainsid/blob/main/EcuaMountainsPredictor.ipynb\" target=\"_parent\"><img src=\"https://colab.research.google.com/assets/colab-badge.svg\" alt=\"Open In Colab\"/></a>"
      ]
    },
    {
      "cell_type": "code",
      "execution_count": 1,
      "metadata": {
        "id": "5TN1xvbJcGKc"
      },
      "outputs": [],
      "source": [
        "from fastai.vision.all import *\n",
        "from fastai.vision.widgets import *"
      ]
    },
    {
      "cell_type": "code",
      "source": [
        "from google.colab import drive\n",
        "drive.mount('/content/drive')"
      ],
      "metadata": {
        "colab": {
          "base_uri": "https://localhost:8080/"
        },
        "id": "0qWGeKVddS96",
        "outputId": "8aa4c18d-88cf-4a74-b07e-1251eb8dd3c4"
      },
      "execution_count": 3,
      "outputs": [
        {
          "output_type": "stream",
          "name": "stdout",
          "text": [
            "Mounted at /content/drive\n"
          ]
        }
      ]
    },
    {
      "cell_type": "code",
      "source": [
        "!pip install voila\n",
        "!jupyter serverextension enable --sys-prefix voila"
      ],
      "metadata": {
        "colab": {
          "base_uri": "https://localhost:8080/",
          "height": 1000
        },
        "id": "mC0krlXEebTz",
        "outputId": "ab535533-6c93-462a-89a2-7eeb86f0e47f"
      },
      "execution_count": 11,
      "outputs": [
        {
          "output_type": "stream",
          "name": "stdout",
          "text": [
            "Collecting voila\n",
            "  Downloading voila-0.5.5-py3-none-any.whl (3.9 MB)\n",
            "\u001b[2K     \u001b[90m━━━━━━━━━━━━━━━━━━━━━━━━━━━━━━━━━━━━━━━━\u001b[0m \u001b[32m3.9/3.9 MB\u001b[0m \u001b[31m12.3 MB/s\u001b[0m eta \u001b[36m0:00:00\u001b[0m\n",
            "\u001b[?25hCollecting jupyter-client<9,>=7.4.4 (from voila)\n",
            "  Downloading jupyter_client-8.6.0-py3-none-any.whl (105 kB)\n",
            "\u001b[2K     \u001b[90m━━━━━━━━━━━━━━━━━━━━━━━━━━━━━━━━━━━━━━━━\u001b[0m \u001b[32m105.9/105.9 kB\u001b[0m \u001b[31m11.5 MB/s\u001b[0m eta \u001b[36m0:00:00\u001b[0m\n",
            "\u001b[?25hRequirement already satisfied: jupyter-core>=4.11.0 in /usr/local/lib/python3.10/dist-packages (from voila) (5.7.1)\n",
            "Collecting jupyter-server<3,>=2.0.0 (from voila)\n",
            "  Downloading jupyter_server-2.12.5-py3-none-any.whl (380 kB)\n",
            "\u001b[2K     \u001b[90m━━━━━━━━━━━━━━━━━━━━━━━━━━━━━━━━━━━━━━━━\u001b[0m \u001b[32m380.3/380.3 kB\u001b[0m \u001b[31m15.7 MB/s\u001b[0m eta \u001b[36m0:00:00\u001b[0m\n",
            "\u001b[?25hCollecting jupyterlab-server<3,>=2.3.0 (from voila)\n",
            "  Downloading jupyterlab_server-2.25.2-py3-none-any.whl (58 kB)\n",
            "\u001b[2K     \u001b[90m━━━━━━━━━━━━━━━━━━━━━━━━━━━━━━━━━━━━━━━━\u001b[0m \u001b[32m58.9/58.9 kB\u001b[0m \u001b[31m7.6 MB/s\u001b[0m eta \u001b[36m0:00:00\u001b[0m\n",
            "\u001b[?25hCollecting nbclient<0.8,>=0.4.0 (from voila)\n",
            "  Downloading nbclient-0.7.4-py3-none-any.whl (73 kB)\n",
            "\u001b[2K     \u001b[90m━━━━━━━━━━━━━━━━━━━━━━━━━━━━━━━━━━━━━━━━\u001b[0m \u001b[32m73.1/73.1 kB\u001b[0m \u001b[31m8.9 MB/s\u001b[0m eta \u001b[36m0:00:00\u001b[0m\n",
            "\u001b[?25hRequirement already satisfied: nbconvert<8,>=6.4.5 in /usr/local/lib/python3.10/dist-packages (from voila) (6.5.4)\n",
            "Requirement already satisfied: traitlets<6,>=5.0.3 in /usr/local/lib/python3.10/dist-packages (from voila) (5.7.1)\n",
            "Collecting websockets>=9.0 (from voila)\n",
            "  Downloading websockets-12.0-cp310-cp310-manylinux_2_5_x86_64.manylinux1_x86_64.manylinux_2_17_x86_64.manylinux2014_x86_64.whl (130 kB)\n",
            "\u001b[2K     \u001b[90m━━━━━━━━━━━━━━━━━━━━━━━━━━━━━━━━━━━━━━━━\u001b[0m \u001b[32m130.2/130.2 kB\u001b[0m \u001b[31m14.3 MB/s\u001b[0m eta \u001b[36m0:00:00\u001b[0m\n",
            "\u001b[?25hRequirement already satisfied: python-dateutil>=2.8.2 in /usr/local/lib/python3.10/dist-packages (from jupyter-client<9,>=7.4.4->voila) (2.8.2)\n",
            "Requirement already satisfied: pyzmq>=23.0 in /usr/local/lib/python3.10/dist-packages (from jupyter-client<9,>=7.4.4->voila) (23.2.1)\n",
            "Requirement already satisfied: tornado>=6.2 in /usr/local/lib/python3.10/dist-packages (from jupyter-client<9,>=7.4.4->voila) (6.3.2)\n",
            "Requirement already satisfied: platformdirs>=2.5 in /usr/local/lib/python3.10/dist-packages (from jupyter-core>=4.11.0->voila) (4.2.0)\n",
            "Requirement already satisfied: anyio>=3.1.0 in /usr/local/lib/python3.10/dist-packages (from jupyter-server<3,>=2.0.0->voila) (3.7.1)\n",
            "Requirement already satisfied: argon2-cffi in /usr/local/lib/python3.10/dist-packages (from jupyter-server<3,>=2.0.0->voila) (23.1.0)\n",
            "Requirement already satisfied: jinja2 in /usr/local/lib/python3.10/dist-packages (from jupyter-server<3,>=2.0.0->voila) (3.1.3)\n",
            "Collecting jupyter-events>=0.9.0 (from jupyter-server<3,>=2.0.0->voila)\n",
            "  Downloading jupyter_events-0.9.0-py3-none-any.whl (18 kB)\n",
            "Collecting jupyter-server-terminals (from jupyter-server<3,>=2.0.0->voila)\n",
            "  Downloading jupyter_server_terminals-0.5.2-py3-none-any.whl (13 kB)\n",
            "Requirement already satisfied: nbformat>=5.3.0 in /usr/local/lib/python3.10/dist-packages (from jupyter-server<3,>=2.0.0->voila) (5.9.2)\n",
            "Collecting overrides (from jupyter-server<3,>=2.0.0->voila)\n",
            "  Downloading overrides-7.7.0-py3-none-any.whl (17 kB)\n",
            "Requirement already satisfied: packaging in /usr/local/lib/python3.10/dist-packages (from jupyter-server<3,>=2.0.0->voila) (23.2)\n",
            "Requirement already satisfied: prometheus-client in /usr/local/lib/python3.10/dist-packages (from jupyter-server<3,>=2.0.0->voila) (0.19.0)\n",
            "Collecting pyzmq>=23.0 (from jupyter-client<9,>=7.4.4->voila)\n",
            "  Downloading pyzmq-25.1.2-cp310-cp310-manylinux_2_28_x86_64.whl (1.1 MB)\n",
            "\u001b[2K     \u001b[90m━━━━━━━━━━━━━━━━━━━━━━━━━━━━━━━━━━━━━━━━\u001b[0m \u001b[32m1.1/1.1 MB\u001b[0m \u001b[31m20.5 MB/s\u001b[0m eta \u001b[36m0:00:00\u001b[0m\n",
            "\u001b[?25hRequirement already satisfied: send2trash>=1.8.2 in /usr/local/lib/python3.10/dist-packages (from jupyter-server<3,>=2.0.0->voila) (1.8.2)\n",
            "Requirement already satisfied: terminado>=0.8.3 in /usr/local/lib/python3.10/dist-packages (from jupyter-server<3,>=2.0.0->voila) (0.18.0)\n",
            "Requirement already satisfied: websocket-client in /usr/local/lib/python3.10/dist-packages (from jupyter-server<3,>=2.0.0->voila) (1.7.0)\n",
            "Requirement already satisfied: babel>=2.10 in /usr/local/lib/python3.10/dist-packages (from jupyterlab-server<3,>=2.3.0->voila) (2.14.0)\n",
            "Collecting json5>=0.9.0 (from jupyterlab-server<3,>=2.3.0->voila)\n",
            "  Downloading json5-0.9.14-py2.py3-none-any.whl (19 kB)\n",
            "Requirement already satisfied: jsonschema>=4.18.0 in /usr/local/lib/python3.10/dist-packages (from jupyterlab-server<3,>=2.3.0->voila) (4.19.2)\n",
            "Requirement already satisfied: requests>=2.31 in /usr/local/lib/python3.10/dist-packages (from jupyterlab-server<3,>=2.3.0->voila) (2.31.0)\n",
            "Requirement already satisfied: lxml in /usr/local/lib/python3.10/dist-packages (from nbconvert<8,>=6.4.5->voila) (4.9.4)\n",
            "Requirement already satisfied: beautifulsoup4 in /usr/local/lib/python3.10/dist-packages (from nbconvert<8,>=6.4.5->voila) (4.12.3)\n",
            "Requirement already satisfied: bleach in /usr/local/lib/python3.10/dist-packages (from nbconvert<8,>=6.4.5->voila) (6.1.0)\n",
            "Requirement already satisfied: defusedxml in /usr/local/lib/python3.10/dist-packages (from nbconvert<8,>=6.4.5->voila) (0.7.1)\n",
            "Requirement already satisfied: entrypoints>=0.2.2 in /usr/local/lib/python3.10/dist-packages (from nbconvert<8,>=6.4.5->voila) (0.4)\n",
            "Requirement already satisfied: jupyterlab-pygments in /usr/local/lib/python3.10/dist-packages (from nbconvert<8,>=6.4.5->voila) (0.3.0)\n",
            "Requirement already satisfied: MarkupSafe>=2.0 in /usr/local/lib/python3.10/dist-packages (from nbconvert<8,>=6.4.5->voila) (2.1.5)\n",
            "Requirement already satisfied: mistune<2,>=0.8.1 in /usr/local/lib/python3.10/dist-packages (from nbconvert<8,>=6.4.5->voila) (0.8.4)\n",
            "Requirement already satisfied: pandocfilters>=1.4.1 in /usr/local/lib/python3.10/dist-packages (from nbconvert<8,>=6.4.5->voila) (1.5.1)\n",
            "Requirement already satisfied: pygments>=2.4.1 in /usr/local/lib/python3.10/dist-packages (from nbconvert<8,>=6.4.5->voila) (2.16.1)\n",
            "Requirement already satisfied: tinycss2 in /usr/local/lib/python3.10/dist-packages (from nbconvert<8,>=6.4.5->voila) (1.2.1)\n",
            "Requirement already satisfied: idna>=2.8 in /usr/local/lib/python3.10/dist-packages (from anyio>=3.1.0->jupyter-server<3,>=2.0.0->voila) (3.6)\n",
            "Requirement already satisfied: sniffio>=1.1 in /usr/local/lib/python3.10/dist-packages (from anyio>=3.1.0->jupyter-server<3,>=2.0.0->voila) (1.3.0)\n",
            "Requirement already satisfied: exceptiongroup in /usr/local/lib/python3.10/dist-packages (from anyio>=3.1.0->jupyter-server<3,>=2.0.0->voila) (1.2.0)\n",
            "Requirement already satisfied: attrs>=22.2.0 in /usr/local/lib/python3.10/dist-packages (from jsonschema>=4.18.0->jupyterlab-server<3,>=2.3.0->voila) (23.2.0)\n",
            "Requirement already satisfied: jsonschema-specifications>=2023.03.6 in /usr/local/lib/python3.10/dist-packages (from jsonschema>=4.18.0->jupyterlab-server<3,>=2.3.0->voila) (2023.12.1)\n",
            "Requirement already satisfied: referencing>=0.28.4 in /usr/local/lib/python3.10/dist-packages (from jsonschema>=4.18.0->jupyterlab-server<3,>=2.3.0->voila) (0.33.0)\n",
            "Requirement already satisfied: rpds-py>=0.7.1 in /usr/local/lib/python3.10/dist-packages (from jsonschema>=4.18.0->jupyterlab-server<3,>=2.3.0->voila) (0.17.1)\n",
            "Collecting python-json-logger>=2.0.4 (from jupyter-events>=0.9.0->jupyter-server<3,>=2.0.0->voila)\n",
            "  Downloading python_json_logger-2.0.7-py3-none-any.whl (8.1 kB)\n",
            "Requirement already satisfied: pyyaml>=5.3 in /usr/local/lib/python3.10/dist-packages (from jupyter-events>=0.9.0->jupyter-server<3,>=2.0.0->voila) (6.0.1)\n",
            "Collecting rfc3339-validator (from jupyter-events>=0.9.0->jupyter-server<3,>=2.0.0->voila)\n",
            "  Downloading rfc3339_validator-0.1.4-py2.py3-none-any.whl (3.5 kB)\n",
            "Collecting rfc3986-validator>=0.1.1 (from jupyter-events>=0.9.0->jupyter-server<3,>=2.0.0->voila)\n",
            "  Downloading rfc3986_validator-0.1.1-py2.py3-none-any.whl (4.2 kB)\n",
            "Requirement already satisfied: fastjsonschema in /usr/local/lib/python3.10/dist-packages (from nbformat>=5.3.0->jupyter-server<3,>=2.0.0->voila) (2.19.1)\n",
            "Requirement already satisfied: six>=1.5 in /usr/local/lib/python3.10/dist-packages (from python-dateutil>=2.8.2->jupyter-client<9,>=7.4.4->voila) (1.16.0)\n",
            "Requirement already satisfied: charset-normalizer<4,>=2 in /usr/local/lib/python3.10/dist-packages (from requests>=2.31->jupyterlab-server<3,>=2.3.0->voila) (3.3.2)\n",
            "Requirement already satisfied: urllib3<3,>=1.21.1 in /usr/local/lib/python3.10/dist-packages (from requests>=2.31->jupyterlab-server<3,>=2.3.0->voila) (2.0.7)\n",
            "Requirement already satisfied: certifi>=2017.4.17 in /usr/local/lib/python3.10/dist-packages (from requests>=2.31->jupyterlab-server<3,>=2.3.0->voila) (2024.2.2)\n",
            "Requirement already satisfied: ptyprocess in /usr/local/lib/python3.10/dist-packages (from terminado>=0.8.3->jupyter-server<3,>=2.0.0->voila) (0.7.0)\n",
            "Requirement already satisfied: argon2-cffi-bindings in /usr/local/lib/python3.10/dist-packages (from argon2-cffi->jupyter-server<3,>=2.0.0->voila) (21.2.0)\n",
            "Requirement already satisfied: soupsieve>1.2 in /usr/local/lib/python3.10/dist-packages (from beautifulsoup4->nbconvert<8,>=6.4.5->voila) (2.5)\n",
            "Requirement already satisfied: webencodings in /usr/local/lib/python3.10/dist-packages (from bleach->nbconvert<8,>=6.4.5->voila) (0.5.1)\n",
            "Collecting fqdn (from jsonschema>=4.18.0->jupyterlab-server<3,>=2.3.0->voila)\n",
            "  Downloading fqdn-1.5.1-py3-none-any.whl (9.1 kB)\n",
            "Collecting isoduration (from jsonschema>=4.18.0->jupyterlab-server<3,>=2.3.0->voila)\n",
            "  Downloading isoduration-20.11.0-py3-none-any.whl (11 kB)\n",
            "Collecting jsonpointer>1.13 (from jsonschema>=4.18.0->jupyterlab-server<3,>=2.3.0->voila)\n",
            "  Downloading jsonpointer-2.4-py2.py3-none-any.whl (7.8 kB)\n",
            "Collecting uri-template (from jsonschema>=4.18.0->jupyterlab-server<3,>=2.3.0->voila)\n",
            "  Downloading uri_template-1.3.0-py3-none-any.whl (11 kB)\n",
            "Requirement already satisfied: webcolors>=1.11 in /usr/local/lib/python3.10/dist-packages (from jsonschema>=4.18.0->jupyterlab-server<3,>=2.3.0->voila) (1.13)\n",
            "Requirement already satisfied: cffi>=1.0.1 in /usr/local/lib/python3.10/dist-packages (from argon2-cffi-bindings->argon2-cffi->jupyter-server<3,>=2.0.0->voila) (1.16.0)\n",
            "Requirement already satisfied: pycparser in /usr/local/lib/python3.10/dist-packages (from cffi>=1.0.1->argon2-cffi-bindings->argon2-cffi->jupyter-server<3,>=2.0.0->voila) (2.21)\n",
            "Collecting arrow>=0.15.0 (from isoduration->jsonschema>=4.18.0->jupyterlab-server<3,>=2.3.0->voila)\n",
            "  Downloading arrow-1.3.0-py3-none-any.whl (66 kB)\n",
            "\u001b[2K     \u001b[90m━━━━━━━━━━━━━━━━━━━━━━━━━━━━━━━━━━━━━━━━\u001b[0m \u001b[32m66.4/66.4 kB\u001b[0m \u001b[31m9.3 MB/s\u001b[0m eta \u001b[36m0:00:00\u001b[0m\n",
            "\u001b[?25hCollecting types-python-dateutil>=2.8.10 (from arrow>=0.15.0->isoduration->jsonschema>=4.18.0->jupyterlab-server<3,>=2.3.0->voila)\n",
            "  Downloading types_python_dateutil-2.8.19.20240106-py3-none-any.whl (9.7 kB)\n",
            "Installing collected packages: json5, websockets, uri-template, types-python-dateutil, rfc3986-validator, rfc3339-validator, pyzmq, python-json-logger, overrides, jsonpointer, fqdn, jupyter-server-terminals, jupyter-client, arrow, isoduration, nbclient, jupyter-events, jupyter-server, jupyterlab-server, voila\n",
            "  Attempting uninstall: pyzmq\n",
            "    Found existing installation: pyzmq 23.2.1\n",
            "    Uninstalling pyzmq-23.2.1:\n",
            "      Successfully uninstalled pyzmq-23.2.1\n",
            "  Attempting uninstall: jupyter-client\n",
            "    Found existing installation: jupyter-client 6.1.12\n",
            "    Uninstalling jupyter-client-6.1.12:\n",
            "      Successfully uninstalled jupyter-client-6.1.12\n",
            "  Attempting uninstall: nbclient\n",
            "    Found existing installation: nbclient 0.9.0\n",
            "    Uninstalling nbclient-0.9.0:\n",
            "      Successfully uninstalled nbclient-0.9.0\n",
            "  Attempting uninstall: jupyter-server\n",
            "    Found existing installation: jupyter-server 1.24.0\n",
            "    Uninstalling jupyter-server-1.24.0:\n",
            "      Successfully uninstalled jupyter-server-1.24.0\n",
            "\u001b[31mERROR: pip's dependency resolver does not currently take into account all the packages that are installed. This behaviour is the source of the following dependency conflicts.\n",
            "notebook 6.5.5 requires jupyter-client<8,>=5.3.4, but you have jupyter-client 8.6.0 which is incompatible.\n",
            "notebook 6.5.5 requires pyzmq<25,>=17, but you have pyzmq 25.1.2 which is incompatible.\u001b[0m\u001b[31m\n",
            "\u001b[0mSuccessfully installed arrow-1.3.0 fqdn-1.5.1 isoduration-20.11.0 json5-0.9.14 jsonpointer-2.4 jupyter-client-8.6.0 jupyter-events-0.9.0 jupyter-server-2.12.5 jupyter-server-terminals-0.5.2 jupyterlab-server-2.25.2 nbclient-0.7.4 overrides-7.7.0 python-json-logger-2.0.7 pyzmq-25.1.2 rfc3339-validator-0.1.4 rfc3986-validator-0.1.1 types-python-dateutil-2.8.19.20240106 uri-template-1.3.0 voila-0.5.5 websockets-12.0\n"
          ]
        },
        {
          "output_type": "display_data",
          "data": {
            "application/vnd.colab-display-data+json": {
              "pip_warning": {
                "packages": [
                  "zmq"
                ]
              }
            }
          },
          "metadata": {}
        },
        {
          "output_type": "stream",
          "name": "stdout",
          "text": [
            "Enabling: voila\n",
            "- Writing config: /usr/etc/jupyter\n",
            "    - Validating...\n",
            "      voila 0.5.5 \u001b[32mOK\u001b[0m\n"
          ]
        }
      ]
    },
    {
      "cell_type": "markdown",
      "source": [
        "# **Notebook to identify Ecuadorian Mountains**\n",
        "\n",
        "---\n"
      ],
      "metadata": {
        "id": "5LhDp0_wcaQB"
      }
    },
    {
      "cell_type": "code",
      "source": [
        "path"
      ],
      "metadata": {
        "colab": {
          "base_uri": "https://localhost:8080/"
        },
        "id": "g15T-lXJddpN",
        "outputId": "3d12c947-53a1-4e7c-ed82-d4187ddc81c6"
      },
      "execution_count": 5,
      "outputs": [
        {
          "output_type": "execute_result",
          "data": {
            "text/plain": [
              "Path('/content/gdrive/MyDrive/Colab Notebooks')"
            ]
          },
          "metadata": {},
          "execution_count": 5
        }
      ]
    },
    {
      "cell_type": "code",
      "source": [
        "path = Path('/content/drive/MyDrive/Colab Notebooks')\n",
        "learn_inf = load_learner(path/'export.pkl', cpu=True)\n",
        "btn_upload = widgets.FileUpload()\n",
        "out_pl = widgets.Output()\n",
        "lbl_pred = widgets.Label()"
      ],
      "metadata": {
        "id": "oPKfxkYncZoe"
      },
      "execution_count": 6,
      "outputs": []
    },
    {
      "cell_type": "code",
      "source": [
        "def on_data_change(change):\n",
        "    lbl_pred.value = ''\n",
        "    img = PILImage.create(btn_upload.data[-1])\n",
        "    out_pl.clear_output()\n",
        "    with out_pl: display(img.to_thumb(128,128))\n",
        "    pred,pred_idx,probs = learn_inf.predict(img)\n",
        "    lbl_pred.value = f'Prediction: {pred}; Probability: {probs[pred_idx]:.04f}'"
      ],
      "metadata": {
        "id": "VPjZC7R4c-VQ"
      },
      "execution_count": 7,
      "outputs": []
    },
    {
      "cell_type": "code",
      "source": [
        "btn_upload.observe(on_data_change, names=['data'])"
      ],
      "metadata": {
        "id": "nKBV-rHgdEJL"
      },
      "execution_count": 8,
      "outputs": []
    },
    {
      "cell_type": "code",
      "source": [
        "display(VBox([widgets.Label('Select your mountain!'), btn_upload, out_pl, lbl_pred]))"
      ],
      "metadata": {
        "colab": {
          "base_uri": "https://localhost:8080/",
          "height": 179,
          "referenced_widgets": [
            "3de75756989d465381e762e39ab12e49",
            "8b8b4c07bb07462398af25bf9c2dc39d",
            "072fbbcb852642cda276102423949b7b",
            "b946db1f766b4bd7b6013c5ee9903e5e",
            "75948e20f56944dca32414287585ecc6",
            "da5c7410a5d54d00b8308cfe9d408634",
            "a740cf0ec9c14de598f79aed7ffe4304",
            "51173133025648f39a3c0506c29cb505",
            "fee6e71a18e14112b35bdd2e6581e682",
            "6648ba91641342ad954e8ada0530f731",
            "41b1389694a94eaea846a465313a3863",
            "3734fde1ccf843cf8998d56c13bd3618",
            "0605f276818f43c980509fba1964afd9"
          ]
        },
        "id": "IdFfaqL0dIrD",
        "outputId": "af20c011-dc06-4b65-932f-403551e03b09"
      },
      "execution_count": 10,
      "outputs": [
        {
          "output_type": "display_data",
          "data": {
            "text/plain": [
              "VBox(children=(Label(value='Select your mountain!'), FileUpload(value={}, description='Upload'), Output(), Lab…"
            ],
            "application/vnd.jupyter.widget-view+json": {
              "version_major": 2,
              "version_minor": 0,
              "model_id": "3de75756989d465381e762e39ab12e49"
            }
          },
          "metadata": {}
        },
        {
          "output_type": "display_data",
          "data": {
            "text/plain": [
              "<IPython.core.display.HTML object>"
            ],
            "text/html": [
              "\n",
              "<style>\n",
              "    /* Turns off some styling */\n",
              "    progress {\n",
              "        /* gets rid of default border in Firefox and Opera. */\n",
              "        border: none;\n",
              "        /* Needs to be in here for Safari polyfill so background images work as expected. */\n",
              "        background-size: auto;\n",
              "    }\n",
              "    progress:not([value]), progress:not([value])::-webkit-progress-bar {\n",
              "        background: repeating-linear-gradient(45deg, #7e7e7e, #7e7e7e 10px, #5c5c5c 10px, #5c5c5c 20px);\n",
              "    }\n",
              "    .progress-bar-interrupted, .progress-bar-interrupted::-webkit-progress-bar {\n",
              "        background: #F44336;\n",
              "    }\n",
              "</style>\n"
            ]
          },
          "metadata": {}
        },
        {
          "output_type": "display_data",
          "data": {
            "text/plain": [
              "<IPython.core.display.HTML object>"
            ],
            "text/html": []
          },
          "metadata": {}
        }
      ]
    },
    {
      "cell_type": "code",
      "source": [],
      "metadata": {
        "id": "7dV3RyL7dIgm"
      },
      "execution_count": null,
      "outputs": []
    }
  ]
}